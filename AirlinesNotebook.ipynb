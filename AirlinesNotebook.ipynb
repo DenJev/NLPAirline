{
 "cells": [
  {
   "cell_type": "code",
   "execution_count": 1,
   "metadata": {},
   "outputs": [],
   "source": [
    "from sklearn.model_selection import train_test_split\n",
    "from sklearn.feature_extraction.text import TfidfVectorizer\n",
    "from nltk.corpus import stopwords\n",
    "import pandas as pd"
   ]
  },
  {
   "cell_type": "code",
   "execution_count": 2,
   "metadata": {},
   "outputs": [],
   "source": [
    "pd.options.mode.chained_assignment = None"
   ]
  },
  {
   "cell_type": "code",
   "execution_count": 3,
   "metadata": {},
   "outputs": [],
   "source": [
    "from nltk.tokenize import TweetTokenizer"
   ]
  },
  {
   "cell_type": "code",
   "execution_count": 4,
   "metadata": {},
   "outputs": [],
   "source": [
    "tokenizer = TweetTokenizer(strip_handles=True, reduce_len=True,)"
   ]
  },
  {
   "cell_type": "code",
   "execution_count": 5,
   "metadata": {},
   "outputs": [],
   "source": [
    "stop = stopwords.words('english')\n",
    "reviews = pd.read_csv(\"Tweets.csv\")"
   ]
  },
  {
   "cell_type": "code",
   "execution_count": 6,
   "metadata": {},
   "outputs": [
    {
     "name": "stdout",
     "output_type": "stream",
     "text": [
      "1            plus youve added commercials experience tacky\n",
      "3        really aggressive blast obnoxious entertainmen...\n",
      "4                                     really big bad thing\n",
      "5        seriously would pay 30 flight seats didnt play...\n",
      "6          yes nearly every time I fly VX ear worm go away\n",
      "8                                  Well I didnt NOW I DO D\n",
      "9                    amazing arrived hour early Youre good\n",
      "11       I 3 pretty graphics much better minimal iconog...\n",
      "12       This great deal Already thinking 2nd trip I ha...\n",
      "13       Im flying fabulous Seductive skies U take stre...\n",
      "14                                                  Thanks\n",
      "15                               SFOPDX schedule still MIA\n",
      "16       So excited first cross country flight LAX MCO ...\n",
      "17       I flew NYC SFO last week couldnt fully sit sea...\n",
      "18                                                I flying\n",
      "19       know would amazingly awesome BOSFLL PLEASE I w...\n",
      "20       first fares May three times carriers seats ava...\n",
      "21                        I love graphic httptcoUT5GrRwAaA\n",
      "22           I love hipster innovation You feel good brand\n",
      "24       guys messed seating I reserved seating friends...\n",
      "25       status match program I applied three weeks Cal...\n",
      "26       What happened 2 ur vegan food options At least...\n",
      "28       amazing cant get cold air vents VX358 noair wo...\n",
      "30       hi I bked cool birthday trip cant add elevate ...\n",
      "32       help left expensive headphones flight 89 IAD L...\n",
      "33       awaiting return phone call would prefer use on...\n",
      "34       great news America could start flights Hawaii ...\n",
      "36       Moodlighting way fly Best experience EVER Cool...\n",
      "37                     Done done Best airline around hands\n",
      "39        Your chat support working site httptcovhp2GtDWPk\n",
      "                               ...                        \n",
      "14605    trying book flight hold cant get representativ...\n",
      "14606    Cancelled Flights flights arbitrarily itinerar...\n",
      "14608    flight Cancelled Flightled Laguardia Louisvill...\n",
      "14609    wasnt enough staff rude ignored passengers don...\n",
      "14610    I understand weather issue cant expect passeng...\n",
      "14612    friend flight Cancelled Flightlations LAX CMH ...\n",
      "14613    I used call back feature operator regarding fl...\n",
      "14614    I need work tomorrow 8am therefore doesnt help...\n",
      "14615    ugh Dump us dfw w luggage Cancelled Flight fli...\n",
      "14616    Cancelled Flights flight doesnt send email tex...\n",
      "14617                                     DMing Big thanks\n",
      "14618    3078 overweight pull 2 dozen passengers Why lu...\n",
      "14619    I love company staff amazing They made uncomfo...\n",
      "14620    I wait 2 hrs CS call back flt cxld protection ...\n",
      "14621    Ive hold 55 mins Cancelled Flighted internatio...\n",
      "14622    I need place sleep I land without accommodatio...\n",
      "14623    Love new planes JFKLAX run Maybe one day I one...\n",
      "14624    Call Chairman call Emerald After today call fo...\n",
      "14625    Flight 236 great Fantastic cabin crew A landin...\n",
      "14626    Flight 953 NYCBuenos Aires delay since yesterd...\n",
      "14627    Flight Cancelled Flightled cant go home tomorr...\n",
      "14628    Thank Customer Relations review concerns conta...\n",
      "14629    How I change flight phone system keeps telling...\n",
      "14630                                            Thanks He\n",
      "14631    thx nothing getting us country back US Broken ...\n",
      "14633    flight Cancelled Flightled leaving tomorrow mo...\n",
      "14634                                     right cue delays\n",
      "14635                   thank got different flight Chicago\n",
      "14636    leaving 20 minutes Late Flight No warnings com...\n",
      "14638    money change flight dont answer phones Any sug...\n",
      "Name: text, Length: 11541, dtype: object\n"
     ]
    }
   ],
   "source": [
    "#reviews[\"text\"] = reviews['text'].str.replace('[^\\w\\s]','')\n",
    "reviews = reviews.drop(['negativereason',\"negativereason_gold\", \"retweet_count\", \"tweet_coord\",\n",
    "                        \"tweet_created\", \"tweet_location\", \"user_timezone\", \"negativereason_confidence\",\n",
    "                        \"tweet_id\", \"airline_sentiment_gold\", \"name\", \"airline\", \"airline_sentiment_confidence\"], axis=1)\n",
    "reviews = reviews[reviews[\"airline_sentiment\"] != 'neutral']\n",
    "reviews['text'] = reviews['text'].apply(tokenizer.tokenize)\n",
    "reviews['text'] = reviews['text'].apply(lambda x: ' '.join(map(str, x)))\n",
    "reviews['text'] = reviews['text'].str.replace('[^\\w\\s]','')\n",
    "reviews['text'] = reviews['text'].apply(lambda x: ' '.join([word for word in x.split() if word not in (stop)]))\n",
    "\n",
    "#reviews['text'] = reviews['text'].apply(lambda x: ' '.join([word for word in x.split() if word not in (stop)]))\n",
    "\n",
    "print(reviews['text'])"
   ]
  },
  {
   "cell_type": "code",
   "execution_count": 7,
   "metadata": {},
   "outputs": [],
   "source": [
    "v = TfidfVectorizer(min_df = 20)\n",
    "reviews['tweetsVect'] = list(v.fit_transform(reviews['text']).toarray())\n",
    "X_train, X_test, y_train, y_test = train_test_split(reviews['tweetsVect'].tolist(),reviews['airline_sentiment'], test_size=0.3, random_state=42)"
   ]
  },
  {
   "cell_type": "code",
   "execution_count": 8,
   "metadata": {},
   "outputs": [
    {
     "name": "stdout",
     "output_type": "stream",
     "text": [
      "[[6321  605]\n",
      " [  86 1066]]\n",
      "[[2720  288]\n",
      " [  51  404]]\n"
     ]
    }
   ],
   "source": [
    "from sklearn.linear_model import LogisticRegression\n",
    "from sklearn.metrics import confusion_matrix\n",
    "clf = LogisticRegression(random_state=42, solver='lbfgs').fit(X_train, y_train)\n",
    "print(confusion_matrix(clf.predict(X_train), y_train))\n",
    "print(confusion_matrix(clf.predict(X_test), y_test))"
   ]
  },
  {
   "cell_type": "code",
   "execution_count": null,
   "metadata": {},
   "outputs": [],
   "source": []
  }
 ],
 "metadata": {
  "kernelspec": {
   "display_name": "Python (myenv)",
   "language": "python",
   "name": "nlpairline"
  },
  "language_info": {
   "codemirror_mode": {
    "name": "ipython",
    "version": 3
   },
   "file_extension": ".py",
   "mimetype": "text/x-python",
   "name": "python",
   "nbconvert_exporter": "python",
   "pygments_lexer": "ipython3",
   "version": "3.6.7"
  }
 },
 "nbformat": 4,
 "nbformat_minor": 2
}
